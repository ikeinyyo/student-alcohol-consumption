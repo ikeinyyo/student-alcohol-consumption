{
 "cells": [
  {
   "cell_type": "markdown",
   "metadata": {},
   "source": [
    "# Exploratory Analysis\n",
    "\n",
    "## Objetivo\n",
    "\n",
    "1. Análisis de las variables\n",
    "1. Si los alumnos de portugués aprobaran la tercera evaluación\n",
    "1. ¿Con cuánta nota?\n",
    "\n",
    "Para cumplir con los objetivos tenemos que trabajar con los datos de los alumnos que estudian portugués. Ya que tenemos que obtener la nota con la que aprueban la tercera evaluación, no nos vale con un algoritmo de clasificación binaria. Trabajaremos para intentar predecir la nota y si es mayor que la mitad (20 es la nota más alta posible) consideraremos que el alumno aprueba.\n",
    "\n",
    "## Cargamos los datos\n",
    "\n",
    "Primero importamos panda y cargamos el dataset de los datos de los alumnos que estudian portugués. Mostramos el tamaño del dataset y una muestra de los datos."
   ]
  },
  {
   "cell_type": "code",
   "execution_count": 1,
   "metadata": {},
   "outputs": [
    {
     "name": "stdout",
     "output_type": "stream",
     "text": [
      "(649, 33)\n"
     ]
    },
    {
     "data": {
      "text/html": [
       "<div>\n",
       "<style scoped>\n",
       "    .dataframe tbody tr th:only-of-type {\n",
       "        vertical-align: middle;\n",
       "    }\n",
       "\n",
       "    .dataframe tbody tr th {\n",
       "        vertical-align: top;\n",
       "    }\n",
       "\n",
       "    .dataframe thead th {\n",
       "        text-align: right;\n",
       "    }\n",
       "</style>\n",
       "<table border=\"1\" class=\"dataframe\">\n",
       "  <thead>\n",
       "    <tr style=\"text-align: right;\">\n",
       "      <th></th>\n",
       "      <th>school</th>\n",
       "      <th>sex</th>\n",
       "      <th>age</th>\n",
       "      <th>address</th>\n",
       "      <th>famsize</th>\n",
       "      <th>Pstatus</th>\n",
       "      <th>Medu</th>\n",
       "      <th>Fedu</th>\n",
       "      <th>Mjob</th>\n",
       "      <th>Fjob</th>\n",
       "      <th>...</th>\n",
       "      <th>famrel</th>\n",
       "      <th>freetime</th>\n",
       "      <th>goout</th>\n",
       "      <th>Dalc</th>\n",
       "      <th>Walc</th>\n",
       "      <th>health</th>\n",
       "      <th>absences</th>\n",
       "      <th>G1</th>\n",
       "      <th>G2</th>\n",
       "      <th>G3</th>\n",
       "    </tr>\n",
       "  </thead>\n",
       "  <tbody>\n",
       "    <tr>\n",
       "      <th>0</th>\n",
       "      <td>GP</td>\n",
       "      <td>F</td>\n",
       "      <td>18</td>\n",
       "      <td>U</td>\n",
       "      <td>GT3</td>\n",
       "      <td>A</td>\n",
       "      <td>4</td>\n",
       "      <td>4</td>\n",
       "      <td>at_home</td>\n",
       "      <td>teacher</td>\n",
       "      <td>...</td>\n",
       "      <td>4</td>\n",
       "      <td>3</td>\n",
       "      <td>4</td>\n",
       "      <td>1</td>\n",
       "      <td>1</td>\n",
       "      <td>3</td>\n",
       "      <td>4</td>\n",
       "      <td>0</td>\n",
       "      <td>11</td>\n",
       "      <td>11</td>\n",
       "    </tr>\n",
       "  </tbody>\n",
       "</table>\n",
       "<p>1 rows × 33 columns</p>\n",
       "</div>"
      ],
      "text/plain": [
       "  school sex  age address famsize Pstatus  Medu  Fedu     Mjob     Fjob ...  \\\n",
       "0     GP   F   18       U     GT3       A     4     4  at_home  teacher ...   \n",
       "\n",
       "  famrel freetime  goout  Dalc  Walc health absences G1  G2  G3  \n",
       "0      4        3      4     1     1      3        4  0  11  11  \n",
       "\n",
       "[1 rows x 33 columns]"
      ]
     },
     "execution_count": 1,
     "metadata": {},
     "output_type": "execute_result"
    }
   ],
   "source": [
    "import pandas as pd\n",
    "\n",
    "df = pd.read_csv(\"data/student-por.csv\")\n",
    "print(df.shape)\n",
    "df.head(1)"
   ]
  },
  {
   "cell_type": "markdown",
   "metadata": {},
   "source": [
    "## Selección de características\n",
    "\n",
    "Disponemos de los siguientes datos en el dataset:\n",
    "\n",
    "- **school** - student's school (binary: 'GP' - Gabriel Pereira or 'MS' - Mousinho da Silveira)\n",
    "- **sex** - student's sex (binary: 'F' - female or 'M' - male)\n",
    "- **age** - student's age (numeric: from 15 to 22)\n",
    "- **address** - student's home address type (binary: 'U' - urban or 'R' - rural)\n",
    "- **famsize** - family size (binary: 'LE3' - less or equal to 3 or 'GT3' - greater than 3)\n",
    "- **Pstatus** - parent's cohabitation status (binary: 'T' - living together or 'A' - apart)\n",
    "- **Fedu** - father's education (numeric: 0 - none, 1 - primary education (4th grade), 2 – 5th to 9th grade, 3 – secondary education or 4 – higher education)\n",
    "- **Medu** - mother's education (numeric: 0 - none, 1 - primary education (4th grade), 2 – 5th to 9th grade, 3 – secondary education or 4 – higher education)\n",
    "- **Mjob** - mother's job (nominal: 'teacher', 'health' care related, civil 'services' (e.g. administrative or police), 'at_home' or 'other')\n",
    "- **Fjob** - father's job (nominal: 'teacher', 'health' care related, civil 'services' (e.g. administrative or police), 'at_home' or 'other')\n",
    "- **reason** - reason to choose this school (nominal: close to 'home', school 'reputation', 'course' preference or 'other')\n",
    "- **guardian** - student's guardian (nominal: 'mother', 'father' or 'other')\n",
    "- **traveltime** - home to school travel time (numeric: 1 - < 15 min., 2 - 15 to 30 min., 3 - 30 min. to 1 hour, or 4 > 1 hour)\n",
    "- **studytime** - weekly study time (numeric: 1 - < 2 hours, 2 - 2 to 5 hours, 3 - 5 to 10 hours, or 4 - > 10 hours)\n",
    "- **failures** - number of past class failures (numeric: n if 1<=n<3, else 4)\n",
    "- **schoolsup** - extra educational support (binary: yes or no)\n",
    "- **famsup** - family educational support (binary: yes or no)\n",
    "- **paid** - extra paid classes within the course subject (Math or Portuguese) (binary: yes or no)\n",
    "- **activities** - extra-curricular activities (binary: yes or no)\n",
    "- **nursery** - attended nursery school (binary: yes or no)\n",
    "- **higher** - wants to take higher education (binary: yes or no)\n",
    "- **internet** - Internet access at home (binary: yes or no)\n",
    "- **romantic** - with a romantic relationship (binary: yes or no)\n",
    "- **famrel** - quality of family relationships (numeric: from 1 - very bad to 5 - excellent)\n",
    "- **freetime** - free time after school (numeric: from 1 - very low to 5 - very high)\n",
    "- **goout** - going out with friends (numeric: from 1 - very low to 5 - very high)\n",
    "- **Dalc** - workday alcohol consumption (numeric: from 1 - very low to 5 - very high)\n",
    "- **Walc** - weekend alcohol consumption (numeric: from 1 - very low to 5 - very high)\n",
    "- **health** - current health status (numeric: from 1 - very bad to 5 - very good)\n",
    "- **absences** - number of school absences (numeric: from 0 to 93)\n",
    "\n",
    "These grades are related with the course subject, Math or Portuguese:\n",
    "\n",
    "- **G1** - first period grade (numeric: from 0 to 20)\n",
    "- **G2** - second period grade (numeric: from 0 to 20)\n",
    "- **G3** - final grade (numeric: from 0 to 20, output target)\n",
    "\n",
    "Vamos a analizar cómo afectan cada una de las variables al porcentaje de aprobados. Lo primero es crear una columna de si han aprovado o no la tercera evaluación."
   ]
  },
  {
   "cell_type": "code",
   "execution_count": 2,
   "metadata": {},
   "outputs": [],
   "source": [
    "import matplotlib.pyplot as plt\n",
    "\n",
    "df['is_approved'] = df.G3 >= 10\n",
    "\n",
    "def compare_feature(columun):\n",
    "    is_approved_pivot = df.pivot_table(index=columun,values=\"is_approved\")\n",
    "    print(is_approved_pivot)\n",
    "    is_approved_pivot.plot.bar()\n",
    "    plt.show()"
   ]
  },
  {
   "cell_type": "markdown",
   "metadata": {},
   "source": [
    "Vemos que, a priori, no podemos descartar ninguna variable. Vamos a analizar alguna variable más en detalle para ver cómo se distribuyen el porcentaje de aprobados.\n",
    "\n",
    "Podemos observar que hay un número significante mayor de aprobados en el colegio GP que en el MS."
   ]
  },
  {
   "cell_type": "code",
   "execution_count": 3,
   "metadata": {},
   "outputs": [
    {
     "name": "stdout",
     "output_type": "stream",
     "text": [
      "        is_approved\n",
      "school             \n",
      "GP         0.924350\n",
      "MS         0.699115\n"
     ]
    },
    {
     "data": {
      "image/png": "[encoded data removed]",
      "text/plain": [
       "<Figure size 432x288 with 1 Axes>"
      ]
     },
     "metadata": {
      "needs_background": "light"
     },
     "output_type": "display_data"
    }
   ],
   "source": [
    "compare_feature(\"school\")"
   ]
  },
  {
   "cell_type": "markdown",
   "metadata": {},
   "source": [
    "Hay ligeramente más aprobados del sexo femenino que del masculino."
   ]
  },
  {
   "cell_type": "code",
   "execution_count": 4,
   "metadata": {},
   "outputs": [
    {
     "name": "stdout",
     "output_type": "stream",
     "text": [
      "     is_approved\n",
      "sex             \n",
      "F       0.869452\n",
      "M       0.812030\n"
     ]
    },
    {
     "data": {
      "image/png": "[encoded data removed]",
      "text/plain": [
       "<Figure size 432x288 with 1 Axes>"
      ]
     },
     "metadata": {
      "needs_background": "light"
     },
     "output_type": "display_data"
    }
   ],
   "source": [
    "compare_feature(\"sex\")"
   ]
  },
  {
   "cell_type": "markdown",
   "metadata": {},
   "source": [
    "Podemos ver que hay más aprobado que viven en zonas urbanas que los que viven en zonas rurales."
   ]
  },
  {
   "cell_type": "code",
   "execution_count": 5,
   "metadata": {},
   "outputs": [
    {
     "name": "stdout",
     "output_type": "stream",
     "text": [
      "         is_approved\n",
      "address             \n",
      "R           0.776650\n",
      "U           0.876106\n"
     ]
    },
    {
     "data": {
      "image/png": "[encoded data removed]",
      "text/plain": [
       "<Figure size 432x288 with 1 Axes>"
      ]
     },
     "metadata": {
      "needs_background": "light"
     },
     "output_type": "display_data"
    }
   ],
   "source": [
    "compare_feature(\"address\")"
   ]
  },
  {
   "cell_type": "markdown",
   "metadata": {},
   "source": [
    "Además, según la razón por la que eligieron el colegio, también hay una diferencia entre los que lo eligieron por reputación y el resto."
   ]
  },
  {
   "cell_type": "code",
   "execution_count": 6,
   "metadata": {},
   "outputs": [
    {
     "name": "stdout",
     "output_type": "stream",
     "text": [
      "            is_approved\n",
      "reason                 \n",
      "course         0.807018\n",
      "home           0.885906\n",
      "other          0.750000\n",
      "reputation     0.930070\n"
     ]
    },
    {
     "data": {
      "image/png": "[encoded data removed]",
      "text/plain": [
       "<Figure size 432x288 with 1 Axes>"
      ]
     },
     "metadata": {
      "needs_background": "light"
     },
     "output_type": "display_data"
    }
   ],
   "source": [
    "compare_feature(\"reason\")"
   ]
  },
  {
   "cell_type": "markdown",
   "metadata": {},
   "source": [
    "También podemos observar que hay una mayor cantidad de aprobados en función de cuantas veces han faltado a clases. Cuantas menos clases se han saltado, el porcentaje de aprobados aumenta."
   ]
  },
  {
   "cell_type": "code",
   "execution_count": 7,
   "metadata": {},
   "outputs": [
    {
     "name": "stdout",
     "output_type": "stream",
     "text": [
      "          is_approved\n",
      "failures             \n",
      "0            0.907104\n",
      "1            0.542857\n",
      "2            0.500000\n",
      "3            0.357143\n"
     ]
    },
    {
     "data": {
      "image/png": "[encoded data removed]",
      "text/plain": [
       "<Figure size 432x288 with 1 Axes>"
      ]
     },
     "metadata": {
      "needs_background": "light"
     },
     "output_type": "display_data"
    }
   ],
   "source": [
    "compare_feature(\"failures\")"
   ]
  },
  {
   "cell_type": "markdown",
   "metadata": {},
   "source": [
    "Parece que hay una relación entre el alcohol diario consumido y el número de aprobados. Los que menos beben, aprueba más."
   ]
  },
  {
   "cell_type": "code",
   "execution_count": 8,
   "metadata": {},
   "outputs": [
    {
     "name": "stdout",
     "output_type": "stream",
     "text": [
      "      is_approved\n",
      "Dalc             \n",
      "1        0.871397\n",
      "2        0.801653\n",
      "3        0.837209\n",
      "4        0.705882\n",
      "5        0.647059\n"
     ]
    },
    {
     "data": {
      "image/png": "[encoded data removed]",
      "text/plain": [
       "<Figure size 432x288 with 1 Axes>"
      ]
     },
     "metadata": {
      "needs_background": "light"
     },
     "output_type": "display_data"
    }
   ],
   "source": [
    "compare_feature(\"Dalc\")"
   ]
  },
  {
   "cell_type": "markdown",
   "metadata": {},
   "source": [
    "Parece que hay una relación entre el alcohol semanal consumido y el número de aprobados. Los que menos beben, aprueba más."
   ]
  },
  {
   "cell_type": "code",
   "execution_count": 9,
   "metadata": {},
   "outputs": [
    {
     "name": "stdout",
     "output_type": "stream",
     "text": [
      "      is_approved\n",
      "Walc             \n",
      "1        0.886640\n",
      "2        0.860000\n",
      "3        0.808333\n",
      "4        0.816092\n",
      "5        0.733333\n"
     ]
    },
    {
     "data": {
      "image/png": "[encoded data removed]",
      "text/plain": [
       "<Figure size 432x288 with 1 Axes>"
      ]
     },
     "metadata": {
      "needs_background": "light"
     },
     "output_type": "display_data"
    }
   ],
   "source": [
    "compare_feature(\"Walc\")"
   ]
  },
  {
   "cell_type": "markdown",
   "metadata": {},
   "source": [
    "## Selección automática de variables\n",
    "\n",
    "Después de analizar las variables y entender más el problema, vamos a trabajar con herramienta que nos ayuden a elegir qué varibles pueden ser más útiles para nuestro problema.\n",
    "\n",
    "Lo primero que tenemos que hacer es analzar las variables que tenemos y cómo afectan a la salida."
   ]
  },
  {
   "cell_type": "code",
   "execution_count": 107,
   "metadata": {},
   "outputs": [],
   "source": [
    "from sklearn.feature_selection import mutual_info_classif\n",
    "import numpy as np\n",
    "\n",
    "def add_to_array(array, item):\n",
    "    new_array = array.copy()\n",
    "    new_array.append(item)\n",
    "    return new_array\n",
    "\n",
    "def calculate_mutual_info(features, df, y):\n",
    "    feature_array = np.array(df[features])\n",
    "    return mutual_info_classif(feature_array, df[y], discrete_features=True)[0]\n",
    "\n",
    "def calculate_mutual_info_for_dataset(df, selected_features, y = \"G3\"):\n",
    "    scores = pd.DataFrame(columns=['feature', 'score'])\n",
    "    for feature in df:\n",
    "        features = add_to_array(selected_features, feature)\n",
    "        info_score = calculate_mutual_info(features, df, y)\n",
    "        scores = scores.append({\"feature\": features, \"score\": info_score}, ignore_index=True)\n",
    "    scores = scores.sort_values(by=['score'], ascending=False)\n",
    "    print(scores[:5])"
   ]
  },
  {
   "cell_type": "code",
   "execution_count": 108,
   "metadata": {},
   "outputs": [
    {
     "name": "stdout",
     "output_type": "stream",
     "text": [
      "          feature     score\n",
      "15           [G3]  2.419603\n",
      "14           [G2]  1.269615\n",
      "13           [G1]  0.859026\n",
      "16  [is_approved]  0.429727\n",
      "12     [absences]  0.224608\n"
     ]
    }
   ],
   "source": [
    "with_dummies = pd.get_dummies(df)\n",
    "calculate_mutual_info_for_dataset(with_dummies, [], \"G3\")"
   ]
  },
  {
   "cell_type": "code",
   "execution_count": 109,
   "metadata": {},
   "outputs": [
    {
     "name": "stdout",
     "output_type": "stream",
     "text": [
      "               feature     score\n",
      "0            [G2, age]  1.269615\n",
      "1           [G2, Medu]  1.269615\n",
      "32  [G2, Fjob_at_home]  1.269615\n",
      "33   [G2, Fjob_health]  1.269615\n",
      "34    [G2, Fjob_other]  1.269615\n"
     ]
    }
   ],
   "source": [
    "calculate_mutual_info_for_dataset(with_dummies, ['G2'], \"G3\")"
   ]
  }
 ],
 "metadata": {
  "kernelspec": {
   "display_name": "Python 3",
   "language": "python",
   "name": "python3"
  },
  "language_info": {
   "codemirror_mode": {
    "name": "ipython",
    "version": 3
   },
   "file_extension": ".py",
   "mimetype": "text/x-python",
   "name": "python",
   "nbconvert_exporter": "python",
   "pygments_lexer": "ipython3",
   "version": "3.7.1"
  }
 },
 "nbformat": 4,
 "nbformat_minor": 2
}
