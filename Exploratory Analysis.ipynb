{
 "cells": [
  {
   "cell_type": "markdown",
   "metadata": {},
   "source": [
    "# Exploratory Analysis\n",
    "\n",
    "## Objetivo\n",
    "\n",
    "1. Análisis de las variables\n",
    "1. Si los alumnos de portugués aprobaran la tercera evaluación\n",
    "1. ¿Con cuánta nota?\n",
    "\n",
    "Para cumplir con los objetivos tenemos que trabajar con los datos de los alumnos que estudian portugués. Ya que tenemos que obtener la nota con la que aprueban la tercera evaluación, no nos vale con un algoritmo de clasificación binaria. Trabajaremos para intentar predecir la nota y si es mayor que la mitad (20 es la nota más alta posible) consideraremos que el alumno aprueba.\n",
    "\n",
    "## Cargamos los datos\n",
    "\n",
    "Primero importamos panda y cargamos el dataset de los datos de los alumnos que estudian portugués. Mostramos el tamaño del dataset y una muestra de los datos."
   ]
  },
  {
   "cell_type": "code",
   "execution_count": 1,
   "metadata": {},
   "outputs": [
    {
     "name": "stdout",
     "output_type": "stream",
     "text": [
      "(649, 33)\n"
     ]
    },
    {
     "data": {
      "text/html": [
       "<div>\n",
       "<style scoped>\n",
       "    .dataframe tbody tr th:only-of-type {\n",
       "        vertical-align: middle;\n",
       "    }\n",
       "\n",
       "    .dataframe tbody tr th {\n",
       "        vertical-align: top;\n",
       "    }\n",
       "\n",
       "    .dataframe thead th {\n",
       "        text-align: right;\n",
       "    }\n",
       "</style>\n",
       "<table border=\"1\" class=\"dataframe\">\n",
       "  <thead>\n",
       "    <tr style=\"text-align: right;\">\n",
       "      <th></th>\n",
       "      <th>school</th>\n",
       "      <th>sex</th>\n",
       "      <th>age</th>\n",
       "      <th>address</th>\n",
       "      <th>famsize</th>\n",
       "      <th>Pstatus</th>\n",
       "      <th>Medu</th>\n",
       "      <th>Fedu</th>\n",
       "      <th>Mjob</th>\n",
       "      <th>Fjob</th>\n",
       "      <th>...</th>\n",
       "      <th>famrel</th>\n",
       "      <th>freetime</th>\n",
       "      <th>goout</th>\n",
       "      <th>Dalc</th>\n",
       "      <th>Walc</th>\n",
       "      <th>health</th>\n",
       "      <th>absences</th>\n",
       "      <th>G1</th>\n",
       "      <th>G2</th>\n",
       "      <th>G3</th>\n",
       "    </tr>\n",
       "  </thead>\n",
       "  <tbody>\n",
       "    <tr>\n",
       "      <th>0</th>\n",
       "      <td>GP</td>\n",
       "      <td>F</td>\n",
       "      <td>18</td>\n",
       "      <td>U</td>\n",
       "      <td>GT3</td>\n",
       "      <td>A</td>\n",
       "      <td>4</td>\n",
       "      <td>4</td>\n",
       "      <td>at_home</td>\n",
       "      <td>teacher</td>\n",
       "      <td>...</td>\n",
       "      <td>4</td>\n",
       "      <td>3</td>\n",
       "      <td>4</td>\n",
       "      <td>1</td>\n",
       "      <td>1</td>\n",
       "      <td>3</td>\n",
       "      <td>4</td>\n",
       "      <td>0</td>\n",
       "      <td>11</td>\n",
       "      <td>11</td>\n",
       "    </tr>\n",
       "  </tbody>\n",
       "</table>\n",
       "<p>1 rows × 33 columns</p>\n",
       "</div>"
      ],
      "text/plain": [
       "  school sex  age address famsize Pstatus  Medu  Fedu     Mjob     Fjob ...  \\\n",
       "0     GP   F   18       U     GT3       A     4     4  at_home  teacher ...   \n",
       "\n",
       "  famrel freetime  goout  Dalc  Walc health absences G1  G2  G3  \n",
       "0      4        3      4     1     1      3        4  0  11  11  \n",
       "\n",
       "[1 rows x 33 columns]"
      ]
     },
     "execution_count": 1,
     "metadata": {},
     "output_type": "execute_result"
    }
   ],
   "source": [
    "import pandas as pd\n",
    "\n",
    "df = pd.read_csv(\"data/student-por.csv\")\n",
    "print(df.shape)\n",
    "df.head(1)"
   ]
  },
  {
   "cell_type": "markdown",
   "metadata": {},
   "source": [
    "## Selección de características\n",
    "\n",
    "Disponemos de los siguientes datos en el dataset:\n",
    "\n",
    "* **school** - student's school (binary: 'GP' - Gabriel Pereira or 'MS' - Mousinho da Silveira)\n",
    "* **sex** - student's sex (binary: 'F' - female or 'M' - male)\n",
    "* **age** - student's age (numeric: from 15 to 22)\n",
    "* **address** - student's home address type (binary: 'U' - urban or 'R' - rural)\n",
    "* **famsize** - family size (binary: 'LE3' - less or equal to 3 or 'GT3' - greater than 3)\n",
    "* **Pstatus** - parent's cohabitation status (binary: 'T' - living together or 'A' - apart)\n",
    "Fedu** - father's education (numeric: 0 - none, 1 - primary education (4th grade), 2 – 5th to 9th grade, 3 – secondary education or 4 – higher education)\n",
    "* **Medu** - mother's education (numeric: 0 - none, 1 - primary education (4th grade), 2 – 5th to 9th grade, 3 – secondary education or 4 – higher education)\n",
    "* **Mjob** - mother's job (nominal: 'teacher', 'health' care related, civil 'services' (e.g. administrative or police), 'at_home' or 'other')\n",
    "* **Fjob** - father's job (nominal: 'teacher', 'health' care related, civil 'services' (e.g. administrative or police), 'at_home' or 'other')\n",
    "* **reason** - reason to choose this school (nominal: close to 'home', school 'reputation', 'course' preference or 'other')\n",
    "* **guardian** - student's guardian (nominal: 'mother', 'father' or 'other')\n",
    "* **traveltime** - home to school travel time (numeric: 1 - <15 min., 2** - 15 to 30 min., 3** - 30 min. to 1 hour, or 4** - >1 hour)\n",
    "* **studytime** - weekly study time (numeric: 1 - <2 hours, 2 - 2 to 5 hours, 3 - 5 to 10 hours, or 4 - >10 hours)\n",
    "* **failures** - number of past class failures (numeric: n if 1<=n<3, else 4)\n",
    "* **schoolsup** - extra educational support (binary: yes or no)\n",
    "* **famsup** - family educational support (binary: yes or no)\n",
    "* **paid** - extra paid classes within the course subject (Math or Portuguese) (binary: yes or no)\n",
    "* **activities** - extra-curricular activities (binary: yes or no)\n",
    "* **nursery** - attended nursery school (binary: yes or no)\n",
    "* **higher** - wants to take higher education (binary: yes or no)\n",
    "* **internet** - Internet access at home (binary: yes or no)\n",
    "* **romantic** - with a romantic relationship (binary: yes or no)\n",
    "* **famrel** - quality of family relationships (numeric: from 1 - very bad to 5 - excellent)\n",
    "* **freetime** - free time after school (numeric: from 1 - very low to 5 - very high)\n",
    "* **goout** - going out with friends (numeric: from 1 - very low to 5 - very high)\n",
    "* **Dalc** - workday alcohol consumption (numeric: from 1 - very low to 5 - very high)\n",
    "* **Walc** - weekend alcohol consumption (numeric: from 1 - very low to 5 - very high)\n",
    "* **health** - current health status (numeric: from 1 - very bad to 5 - very good)\n",
    "* **absences** - number of school absences (numeric: from 0 to 93)\n",
    "\n",
    "Vamos a analizar cómo afectan cada una de las variables al porcentaje de aprobados. Lo primero es crear una columna de si han aprovado o no la tercera evaluación."
   ]
  },
  {
   "cell_type": "code",
   "execution_count": 46,
   "metadata": {},
   "outputs": [],
   "source": [
    "df['is_approved'] = df.G3 >= 10\n",
    "def compare_feature(columun):\n",
    "    is_approved_pivot = df.pivot_table(index=columun,values=\"is_approved\")\n",
    "    is_approved_pivot.plot.bar()\n",
    "    plt.show()"
   ]
  },
  {
   "cell_type": "markdown",
   "metadata": {},
   "source": [
    "Primero analizamos los aprobados en función del colegio. Vemos que no hay una clara diferencia, así que **ignoramos esta característica**."
   ]
  },
  {
   "cell_type": "code",
   "execution_count": 49,
   "metadata": {},
   "outputs": [
    {
     "data": {
      "image/png": "[encoded data removed]",
      "text/plain": [
       "<Figure size 432x288 with 1 Axes>"
      ]
     },
     "metadata": {
      "needs_background": "light"
     },
     "output_type": "display_data"
    }
   ],
   "source": [
    "compare_feature(\"school\")"
   ]
  },
  {
   "cell_type": "markdown",
   "metadata": {},
   "source": [
    "Analizamos los aprobados en función del sexo. Vemos que no hay una clara diferencia, así que **ignoramos esta característica**."
   ]
  },
  {
   "cell_type": "code",
   "execution_count": 51,
   "metadata": {},
   "outputs": [
    {
     "data": {
      "image/png": "[encoded data removed]",
      "text/plain": [
       "<Figure size 432x288 with 1 Axes>"
      ]
     },
     "metadata": {
      "needs_background": "light"
     },
     "output_type": "display_data"
    }
   ],
   "source": [
    "compare_feature(\"sex\")"
   ]
  },
  {
   "cell_type": "code",
   "execution_count": null,
   "metadata": {},
   "outputs": [],
   "source": []
  }
 ],
 "metadata": {
  "kernelspec": {
   "display_name": "Python 3",
   "language": "python",
   "name": "python3"
  },
  "language_info": {
   "codemirror_mode": {
    "name": "ipython",
    "version": 3
   },
   "file_extension": ".py",
   "mimetype": "text/x-python",
   "name": "python",
   "nbconvert_exporter": "python",
   "pygments_lexer": "ipython3",
   "version": "3.5.6"
  }
 },
 "nbformat": 4,
 "nbformat_minor": 2
}
